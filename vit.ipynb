{
 "cells": [
  {
   "cell_type": "code",
   "execution_count": 2,
   "metadata": {},
   "outputs": [],
   "source": [
    "from tinygrad import Tensor, nn\n",
    "from tinygrad.helpers import trange\n",
    "import pickle\n",
    "import numpy as np"
   ]
  },
  {
   "cell_type": "code",
   "execution_count": 3,
   "metadata": {},
   "outputs": [],
   "source": [
    "def unpickle(file):\n",
    "    with open(file, \"rb\") as f:\n",
    "        data = pickle.load(f, encoding=\"bytes\")\n",
    "    return data"
   ]
  },
  {
   "cell_type": "code",
   "execution_count": 4,
   "metadata": {},
   "outputs": [],
   "source": [
    "H = W = 32\n",
    "C = 3\n",
    "data = unpickle(\"data/data_batch_1\")\n",
    "X_train = Tensor(data[b\"data\"].reshape((10000, C, H, W)))\n",
    "Y_train = Tensor(np.array(data[b\"labels\"]))\n",
    "\n",
    "data = unpickle(\"data/test_batch\")\n",
    "X_test = Tensor(data[b\"data\"].reshape((10000, C, H, W)))\n",
    "Y_test = Tensor(np.array(data[b\"labels\"]))"
   ]
  },
  {
   "cell_type": "code",
   "execution_count": 30,
   "metadata": {},
   "outputs": [
    {
     "data": {
      "text/plain": [
       "<Tensor <UOp METAL (10000, 5, 192) float (<Ops.ADD: 45>, None)> on METAL with grad None>"
      ]
     },
     "execution_count": 30,
     "metadata": {},
     "output_type": "execute_result"
    }
   ],
   "source": [
    "P = 16\n",
    "class ViT:\n",
    "    def __init__(self, embed_dim):\n",
    "        self.embed_dim = embed_dim\n",
    "        self.embedding = nn.Conv2d(3, embed_dim, kernel_size=16, stride=16)\n",
    "        self.cls_token = Tensor.uniform(1, 1, embed_dim)\n",
    "        self.pos_embedding = Tensor.uniform(1, (H // P) * (W // P) + 1, embed_dim)\n",
    "\n",
    "    def __call__(self, x):\n",
    "        ce = Tensor.zeros(x.shape[0], 1, self.embed_dim) + self.cls_token\n",
    "        x = self.embedding(x).flatten(2).transpose(1, 2)\n",
    "        x = ce.cat(x, dim=1)\n",
    "        x += self.pos_embedding\n",
    "        return x\n",
    "\n",
    "model = ViT(embed_dim=192)\n",
    "model(X_train)"
   ]
  }
 ],
 "metadata": {
  "kernelspec": {
   "display_name": "tinygrad",
   "language": "python",
   "name": "python3"
  },
  "language_info": {
   "codemirror_mode": {
    "name": "ipython",
    "version": 3
   },
   "file_extension": ".py",
   "mimetype": "text/x-python",
   "name": "python",
   "nbconvert_exporter": "python",
   "pygments_lexer": "ipython3",
   "version": "3.12.8"
  }
 },
 "nbformat": 4,
 "nbformat_minor": 2
}
