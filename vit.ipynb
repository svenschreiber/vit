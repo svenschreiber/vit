{
 "cells": [
  {
   "cell_type": "code",
   "execution_count": 2,
   "metadata": {},
   "outputs": [],
   "source": [
    "from tinygrad import Tensor, nn\n",
    "from tinygrad.helpers import trange\n",
    "import pickle\n",
    "import numpy as np"
   ]
  },
  {
   "cell_type": "code",
   "execution_count": 3,
   "metadata": {},
   "outputs": [],
   "source": [
    "def unpickle(file):\n",
    "    with open(file, \"rb\") as f:\n",
    "        data = pickle.load(f, encoding=\"bytes\")\n",
    "    return data"
   ]
  },
  {
   "cell_type": "code",
   "execution_count": 71,
   "metadata": {},
   "outputs": [
    {
     "name": "stdout",
     "output_type": "stream",
     "text": [
      "<Tensor <UOp METAL (50000, 3, 32, 32) uchar (<Ops.ADD: 45>, None)> on METAL with grad None>\n",
      "<Tensor <UOp METAL (50000,) int (<Ops.ADD: 45>, None)> on METAL with grad None>\n"
     ]
    }
   ],
   "source": [
    "H = W = 32\n",
    "C = 3\n",
    "batches = [unpickle(f\"data/data_batch_{i}\") for i in range(1, 6)]\n",
    "X_train = Tensor.cat(*[Tensor(batch[b\"data\"].reshape(10000, C, H, W)) for batch in batches])\n",
    "print(X_train)\n",
    "Y_train = Tensor.cat(*[Tensor(batch[b\"labels\"]) for batch in batches])\n",
    "print(Y_train)\n",
    "\n",
    "data = unpickle(\"data/test_batch\")\n",
    "X_test = Tensor(data[b\"data\"].reshape((10000, C, H, W)))\n",
    "Y_test = Tensor(np.array(data[b\"labels\"]))"
   ]
  },
  {
   "cell_type": "code",
   "execution_count": 73,
   "metadata": {},
   "outputs": [
    {
     "name": "stderr",
     "output_type": "stream",
     "text": [
      "loss:   2.23 test_accuracy: 34.48%: 100%|███| 1000/1000 [03:05<00:00,  5.40it/s]\n"
     ]
    }
   ],
   "source": [
    "P = 16\n",
    "\n",
    "class MSA:\n",
    "    def __init__(self, embed_dim):\n",
    "        self.embed_dim = embed_dim\n",
    "        self.l_Q = nn.Linear(embed_dim, embed_dim)\n",
    "        self.l_K = nn.Linear(embed_dim, embed_dim)\n",
    "        self.l_V = nn.Linear(embed_dim, embed_dim)\n",
    "    \n",
    "    def __call__(self, x):\n",
    "        Q = self.l_Q(x)\n",
    "        K = self.l_K(x)\n",
    "        V = self.l_V(x)\n",
    "        return Q.scaled_dot_product_attention(K, V)\n",
    "\n",
    "class MLP:\n",
    "    def __init__(self, embed_dim, ff_dim):\n",
    "        self.ff1 = nn.Linear(embed_dim, ff_dim)\n",
    "        self.ff2 = nn.Linear(ff_dim, embed_dim)\n",
    "    \n",
    "    def __call__(self, x):\n",
    "        return self.ff2(self.ff1(x).gelu().dropout()).gelu().dropout()\n",
    "\n",
    "class EncoderBlock:\n",
    "    def __init__(self, embed_dim):\n",
    "        self.msa = MSA(embed_dim)\n",
    "        self.mlp = MLP(embed_dim, 4 * embed_dim)\n",
    "    \n",
    "    def __call__(self, x):\n",
    "        x = x + self.msa(x.layernorm())\n",
    "        x = x + self.mlp(x.layernorm())\n",
    "        return x\n",
    "\n",
    "class ViT:\n",
    "    def __init__(self, embed_dim, n_classes):\n",
    "        self.embed_dim = embed_dim\n",
    "        self.embedding = nn.Conv2d(3, embed_dim, kernel_size=16, stride=16)\n",
    "        self.cls_token = Tensor.uniform(1, 1, embed_dim, requires_grad=True)\n",
    "        self.pos_embedding = Tensor.uniform(1, (H // P) * (W // P) + 1, embed_dim, requires_grad=True)\n",
    "        self.encoder = EncoderBlock(embed_dim)\n",
    "        self.mlp_head = nn.Linear(embed_dim, n_classes)\n",
    "\n",
    "    def __call__(self, x):\n",
    "        ce = Tensor.zeros(x.shape[0], 1, self.embed_dim) + self.cls_token\n",
    "        x = self.embedding(x).flatten(2).transpose(1, 2)\n",
    "        x = ce.cat(x, dim=1)\n",
    "        x = x + self.pos_embedding\n",
    "        x = self.encoder(x)\n",
    "        x = self.mlp_head(x[:,-1,:])\n",
    "        return x\n",
    "\n",
    "BS = 512\n",
    "model = ViT(embed_dim=192, n_classes=10)\n",
    "opt = nn.optim.Adam(nn.state.get_parameters(model))\n",
    "\n",
    "@Tensor.train()\n",
    "def train_step():\n",
    "    opt.zero_grad()\n",
    "    samples = Tensor.randint(BS, high=X_train.shape[0])\n",
    "    loss = model(X_train[samples]).sparse_categorical_crossentropy(Y_train[samples]).backward()\n",
    "    opt.step()\n",
    "    return loss\n",
    "\n",
    "@Tensor.test()\n",
    "def get_test_acc() -> Tensor: return (model(X_test).argmax(axis=1) == Y_test).mean()*100\n",
    "\n",
    "test_acc = float('nan')\n",
    "for i in (t:=trange(1000)):\n",
    "    loss = train_step()\n",
    "    if i%10 == 9: test_acc = get_test_acc().item()\n",
    "    t.set_description(f\"loss: {loss.item():6.2f} test_accuracy: {test_acc:5.2f}%\")"
   ]
  }
 ],
 "metadata": {
  "kernelspec": {
   "display_name": "tinygrad",
   "language": "python",
   "name": "python3"
  },
  "language_info": {
   "codemirror_mode": {
    "name": "ipython",
    "version": 3
   },
   "file_extension": ".py",
   "mimetype": "text/x-python",
   "name": "python",
   "nbconvert_exporter": "python",
   "pygments_lexer": "ipython3",
   "version": "3.12.8"
  }
 },
 "nbformat": 4,
 "nbformat_minor": 2
}
